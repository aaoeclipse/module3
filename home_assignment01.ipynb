{
 "cells": [
  {
   "cell_type": "markdown",
   "metadata": {},
   "source": [
    "### Home assignment 01.\n",
    "\n",
    "Your goal is to follow this notebook and complete all the steps.\n",
    "\n",
    "Please, solve all these excersises (both on python and bash) _using the remote machine_: either in jupyter notebook or using bash.\n",
    "\n",
    "We ask you to start with signing this notebook in the following cell and printing some tech information. Please, just run the second cell without any changes.\n",
    "\n",
    "Good luck!"
   ]
  },
  {
   "cell_type": "code",
   "execution_count": 2,
   "metadata": {},
   "outputs": [],
   "source": [
    "first_name = ''\n",
    "last_name = ''"
   ]
  },
  {
   "cell_type": "code",
   "execution_count": 3,
   "metadata": {},
   "outputs": [
    {
     "name": "stdout",
     "output_type": "stream",
     "text": [
      "['/home/eclipse/Documents/HarborSpace/Classes/PythonDataScience/module3', '/usr/lib/python39.zip', '/usr/lib/python3.9', '/usr/lib/python3.9/lib-dynload', '', '/home/eclipse/.local/lib/python3.9/site-packages', '/usr/local/lib/python3.9/dist-packages', '/usr/lib/python3/dist-packages', '/usr/lib/python3.9/dist-packages', '/home/eclipse/.local/lib/python3.9/site-packages/IPython/extensions', '/home/eclipse/.ipython']\n",
      "3.9.5 (default, May 11 2021, 08:20:37) \n",
      "[GCC 10.3.0]\n"
     ]
    }
   ],
   "source": [
    "import sys\n",
    "print(sys.path)\n",
    "print(sys.version)"
   ]
  },
  {
   "cell_type": "markdown",
   "metadata": {},
   "source": [
    "#### Excersise 0\n",
    "Import `this` and read the zen of Python."
   ]
  },
  {
   "cell_type": "code",
   "execution_count": 4,
   "metadata": {},
   "outputs": [
    {
     "name": "stdout",
     "output_type": "stream",
     "text": [
      "The Zen of Python, by Tim Peters\n",
      "\n",
      "Beautiful is better than ugly.\n",
      "Explicit is better than implicit.\n",
      "Simple is better than complex.\n",
      "Complex is better than complicated.\n",
      "Flat is better than nested.\n",
      "Sparse is better than dense.\n",
      "Readability counts.\n",
      "Special cases aren't special enough to break the rules.\n",
      "Although practicality beats purity.\n",
      "Errors should never pass silently.\n",
      "Unless explicitly silenced.\n",
      "In the face of ambiguity, refuse the temptation to guess.\n",
      "There should be one-- and preferably only one --obvious way to do it.\n",
      "Although that way may not be obvious at first unless you're Dutch.\n",
      "Now is better than never.\n",
      "Although never is often better than *right* now.\n",
      "If the implementation is hard to explain, it's a bad idea.\n",
      "If the implementation is easy to explain, it may be a good idea.\n",
      "Namespaces are one honking great idea -- let's do more of those!\n"
     ]
    }
   ],
   "source": [
    "import this"
   ]
  },
  {
   "cell_type": "code",
   "execution_count": 5,
   "metadata": {},
   "outputs": [],
   "source": [
    "student_has_read_zen_of_python = True\n",
    "assert student_has_read_zen_of_python"
   ]
  },
  {
   "cell_type": "markdown",
   "metadata": {},
   "source": [
    "#### Excersise 1\n",
    "\n",
    "Read the docs on `isinstance` method and check whether the following objects belong to the proposed types (hint: `isinstance`).\n",
    "\n",
    "Additional excersise: visualize this correspondance matrix (object – type), e.g. using numpy and [pcolormesh](https://matplotlib.org/stable/api/_as_gen/matplotlib.pyplot.pcolormesh.html) for visualization."
   ]
  },
  {
   "cell_type": "code",
   "execution_count": 6,
   "metadata": {},
   "outputs": [],
   "source": [
    "list_of_objects = [\n",
    "    int,\n",
    "    2,\n",
    "    2.,\n",
    "    None,\n",
    "    object,\n",
    "    str,\n",
    "    str(2.),\n",
    "    float('2.0'),\n",
    "    'hello',\n",
    "    dict,\n",
    "    list,\n",
    "    [dict],\n",
    "    {1: []}\n",
    "]\n",
    "\n",
    "list_of_types = [\n",
    "    int,\n",
    "    float,\n",
    "    object,\n",
    "    str,\n",
    "    dict,\n",
    "    list\n",
    "]"
   ]
  },
  {
   "cell_type": "code",
   "execution_count": 7,
   "metadata": {},
   "outputs": [
    {
     "name": "stdout",
     "output_type": "stream",
     "text": [
      " 2 is of type -> <class 'int'>\n",
      " 2.0 is of type -> <class 'float'>\n",
      " 2.0 is of type -> <class 'float'>\n",
      " <class 'int'> is of type -> <class 'object'>\n",
      " 2 is of type -> <class 'object'>\n",
      " 2.0 is of type -> <class 'object'>\n",
      " None is of type -> <class 'object'>\n",
      " <class 'object'> is of type -> <class 'object'>\n",
      " <class 'str'> is of type -> <class 'object'>\n",
      " 2.0 is of type -> <class 'object'>\n",
      " 2.0 is of type -> <class 'object'>\n",
      " hello is of type -> <class 'object'>\n",
      " <class 'dict'> is of type -> <class 'object'>\n",
      " <class 'list'> is of type -> <class 'object'>\n",
      " [<class 'dict'>] is of type -> <class 'object'>\n",
      " {1: []} is of type -> <class 'object'>\n",
      " 2.0 is of type -> <class 'str'>\n",
      " hello is of type -> <class 'str'>\n",
      " {1: []} is of type -> <class 'dict'>\n",
      " [<class 'dict'>] is of type -> <class 'list'>\n"
     ]
    }
   ],
   "source": [
    "for typ in list_of_types:\n",
    "    for obj in list_of_objects:\n",
    "        if (isinstance(obj, typ)):\n",
    "            print(f' {obj} is of type -> {typ}')"
   ]
  },
  {
   "cell_type": "markdown",
   "metadata": {},
   "source": [
    "#### Excersise 2\n",
    "\n",
    "Set quotient and remainder of 89 divided by 11 to \"a\" and \"b\" variables *"
   ]
  },
  {
   "cell_type": "code",
   "execution_count": 9,
   "metadata": {},
   "outputs": [],
   "source": [
    "a = b = 89 % 11"
   ]
  },
  {
   "cell_type": "markdown",
   "metadata": {},
   "source": [
    "#### Excersise 3\n",
    "\n",
    "Calculate the next cells:\n",
    "```\n",
    "0) 10 ** 1000\n",
    "1) 1.0 / 10 ** 1000\n",
    "2) 1 / 10 ** 1000\n",
    "3) 10 ** 1000 / 1\n",
    "4) 1 / (1 / 10 ** 1000)\n",
    "```"
   ]
  },
  {
   "cell_type": "code",
   "execution_count": 12,
   "metadata": {},
   "outputs": [
    {
     "name": "stdout",
     "output_type": "stream",
     "text": [
      "0) 10000000000000000000000000000000000000000000000000000000000000000000000000000000000000000000000000000000000000000000000000000000000000000000000000000000000000000000000000000000000000000000000000000000000000000000000000000000000000000000000000000000000000000000000000000000000000000000000000000000000000000000000000000000000000000000000000000000000000000000000000000000000000000000000000000000000000000000000000000000000000000000000000000000000000000000000000000000000000000000000000000000000000000000000000000000000000000000000000000000000000000000000000000000000000000000000000000000000000000000000000000000000000000000000000000000000000000000000000000000000000000000000000000000000000000000000000000000000000000000000000000000000000000000000000000000000000000000000000000000000000000000000000000000000000000000000000000000000000000000000000000000000000000000000000000000000000000000000000000000000000000000000000000000000000000000000000000000000000000000000000000000000000000000000000000000000000000\n"
     ]
    },
    {
     "ename": "OverflowError",
     "evalue": "int too large to convert to float",
     "output_type": "error",
     "traceback": [
      "\u001b[0;31m---------------------------------------------------------------------------\u001b[0m",
      "\u001b[0;31mOverflowError\u001b[0m                             Traceback (most recent call last)",
      "\u001b[0;32m/tmp/ipykernel_36013/311649049.py\u001b[0m in \u001b[0;36m<module>\u001b[0;34m\u001b[0m\n\u001b[1;32m      1\u001b[0m \u001b[0mprint\u001b[0m\u001b[0;34m(\u001b[0m\u001b[0;34mf'0) {10 ** 1000}'\u001b[0m\u001b[0;34m)\u001b[0m\u001b[0;34m\u001b[0m\u001b[0;34m\u001b[0m\u001b[0m\n\u001b[0;32m----> 2\u001b[0;31m \u001b[0mprint\u001b[0m\u001b[0;34m(\u001b[0m\u001b[0;34mf'1) {1.0 / 10 ** 1000}'\u001b[0m\u001b[0;34m)\u001b[0m\u001b[0;34m\u001b[0m\u001b[0;34m\u001b[0m\u001b[0m\n\u001b[0m\u001b[1;32m      3\u001b[0m \u001b[0mprint\u001b[0m\u001b[0;34m(\u001b[0m\u001b[0;34mf'2) {1 / 10 ** 1000}'\u001b[0m\u001b[0;34m)\u001b[0m\u001b[0;34m\u001b[0m\u001b[0;34m\u001b[0m\u001b[0m\n\u001b[1;32m      4\u001b[0m \u001b[0mprint\u001b[0m\u001b[0;34m(\u001b[0m\u001b[0;34mf'3) {10 ** 1000 / 1}'\u001b[0m\u001b[0;34m)\u001b[0m\u001b[0;34m\u001b[0m\u001b[0;34m\u001b[0m\u001b[0m\n\u001b[1;32m      5\u001b[0m \u001b[0mprint\u001b[0m\u001b[0;34m(\u001b[0m\u001b[0;34mf'4) {1 / (1 / 10 ** 1000)}'\u001b[0m\u001b[0;34m)\u001b[0m\u001b[0;34m\u001b[0m\u001b[0;34m\u001b[0m\u001b[0m\n",
      "\u001b[0;31mOverflowError\u001b[0m: int too large to convert to float"
     ]
    }
   ],
   "source": [
    "print(f'0) {10 ** 1000}')\n",
    "print(f'1) {1.0 / 10 ** 1000}')\n",
    "print(f'2) {1 / 10 ** 1000}')\n",
    "print(f'3) {10 ** 1000 / 1}')\n",
    "print(f'4) {1 / (1 / 10 ** 1000)}')\n"
   ]
  },
  {
   "cell_type": "markdown",
   "metadata": {},
   "source": [
    "How to avoid these behaviours to receive correct results in steps 1-4?\n",
    "\n",
    "It is enough to provide your thoughts / seach the web for decisions and share the links / point to specific constructions in Python which were constructed to solve this problem."
   ]
  },
  {
   "cell_type": "markdown",
   "metadata": {},
   "source": [
    "_Your answer here_"
   ]
  },
  {
   "cell_type": "markdown",
   "metadata": {},
   "source": [
    "#### Excersise 4.1\n",
    "\n",
    "Check if string is a correct integer\n"
   ]
  },
  {
   "cell_type": "code",
   "execution_count": 18,
   "metadata": {},
   "outputs": [
    {
     "name": "stdin",
     "output_type": "stream",
     "text": [
      " 2.2\n"
     ]
    },
    {
     "name": "stdout",
     "output_type": "stream",
     "text": [
      "2.2 cannot be turned correctly into an integer\n"
     ]
    }
   ],
   "source": [
    "s = input()\n",
    "try:\n",
    "    s_int = int(s)\n",
    "    print(f'{s_int} can be turned into an integer')\n",
    "except:\n",
    "    print(f'{s} cannot be turned correctly into an integer')"
   ]
  },
  {
   "cell_type": "markdown",
   "metadata": {},
   "source": [
    "#### Excersise 4.2\n",
    "\n",
    "Create a palindrom from given string. For example, \"abc\" -> \"abcba\""
   ]
  },
  {
   "cell_type": "code",
   "execution_count": 24,
   "metadata": {},
   "outputs": [
    {
     "name": "stdin",
     "output_type": "stream",
     "text": [
      " asdf\n"
     ]
    },
    {
     "name": "stdout",
     "output_type": "stream",
     "text": [
      "asdfdsa\n"
     ]
    }
   ],
   "source": [
    "s = input()\n",
    "palindrom = s[:-1] + s[::-1]\n",
    "print(palindrom)"
   ]
  },
  {
   "cell_type": "markdown",
   "metadata": {},
   "source": [
    "#### Excersise 4.3\n",
    "\n",
    "User inputs one's name into \"name\" variable. One can use `lowercase`, `UPPERCASE`, or `sOmeTHingLikeThatCaSE`. You need to turn this string into regular case used with names: `Firstletterisbigothersaresmall`."
   ]
  },
  {
   "cell_type": "code",
   "execution_count": 26,
   "metadata": {},
   "outputs": [
    {
     "name": "stdout",
     "output_type": "stream",
     "text": [
      "Helloiamuser\n",
      "Johndeere\n",
      "Firstnamelastname\n"
     ]
    }
   ],
   "source": [
    "name1 = 'HellOIamUsER'\n",
    "name2 = 'johndeere'\n",
    "name3 = 'FIRSTNAMELASTNAME'\n",
    "\n",
    "def format_name(name):\n",
    "    return name[0].upper() + name[1:].lower()\n",
    "\n",
    "print(format_name(name1))\n",
    "print(format_name(name2))\n",
    "print(format_name(name3))"
   ]
  },
  {
   "cell_type": "markdown",
   "metadata": {},
   "source": [
    "#### Excersise 4.4\n",
    "\n",
    "You have a string that consists of English letters and \".\", \",\", \"-\", \"!\", \"?\", \":\", \";\" symbols. Extract all words without punctuation from this string."
   ]
  },
  {
   "cell_type": "code",
   "execution_count": 40,
   "metadata": {},
   "outputs": [
    {
     "name": "stdout",
     "output_type": "stream",
     "text": [
      "my very happy thest\n"
     ]
    }
   ],
   "source": [
    "s = input(\"Enter String: \")\n",
    "print(''.join( list(filter(lambda x: x.isalpha() or x == ' ',s)) ) )"
   ]
  },
  {
   "cell_type": "markdown",
   "metadata": {},
   "source": [
    "#### Excersise 4.5\n",
    "\n",
    "Assign string `\"\"\"'''\\/'''\"\"\"` to Python variable (all 14 symbols)\n"
   ]
  },
  {
   "cell_type": "code",
   "execution_count": 44,
   "metadata": {},
   "outputs": [
    {
     "name": "stdout",
     "output_type": "stream",
     "text": [
      "\"\"\"'''\\/'''\"\"\" \n"
     ]
    }
   ],
   "source": [
    "print(\"\"\"\\\"\"\"'''\\/'''\"\"\\\" \"\"\")"
   ]
  },
  {
   "cell_type": "markdown",
   "metadata": {},
   "source": [
    "#### Excersise 4.6\n",
    "\n",
    "Print pi number in a string  \"pi is approximately equal to ALMOSTPI\", where instead of ALMOSTPI you insert 22/7 with 3 digits after comma."
   ]
  },
  {
   "cell_type": "code",
   "execution_count": 51,
   "metadata": {},
   "outputs": [
    {
     "name": "stdout",
     "output_type": "stream",
     "text": [
      "pi is approximately equal to 3.143\n"
     ]
    }
   ],
   "source": [
    "print('pi is approximately equal to {0:.3f}'.format(22./7))"
   ]
  },
  {
   "cell_type": "markdown",
   "metadata": {},
   "source": [
    "#### Excersise 5\n",
    "\n",
    "You have multiline text inside string variable named `text`. Create list of lines from that text."
   ]
  },
  {
   "cell_type": "code",
   "execution_count": 57,
   "metadata": {},
   "outputs": [],
   "source": [
    "text = \"\"\" Lorem ipsum dolor sit amet, consectetur adipiscing elit. Phasellus eu est faucibus, gravida ex ut, ultrices mi. Fusce sed leo quis lorem faucibus ornare. Aliquam eu auctor lorem. Interdum et malesuada fames ac ante ipsum primis in faucibus. Pellentesque ultricies elit quis fermentum scelerisque. Aenean in augue sapien. Nulla non mattis tellus, sit amet sodales odio. Fusce eu urna ultrices, pharetra mauris vel, mattis quam. Quisque tempus at turpis at luctus.\n",
    "Orci varius natoque penatibus et magnis dis parturient montes, nascetur ridiculus mus. Morbi at mollis tellus, quis mattis nisl. Sed viverra ipsum justo, eget vulputate ligula viverra in. Aenean in facilisis purus. Donec ante diam, maximus et nisl ut, condimentum finibus metus. Vestibulum volutpat gravida vulputate. Lorem ipsum dolor sit amet, consectetur adipiscing elit. Nunc eget lacus libero. Mauris consectetur massa eros, nec interdum felis laoreet id. Suspendisse viverra blandit leo et varius. Curabitur leo sem, cursus id massa in, auctor bibendum massa. Fusce a sollicitudin felis. Vivamus congue urna dolor, a varius purus pellentesque vel. Suspendisse quis sapien odio. Nullam placerat sit amet est eu laoreet. Donec feugiat quam eget posuere feugiat.\n",
    "Etiam venenatis dapibus nibh elementum tristique. Proin nunc lacus, laoreet non tellus ut, tempus cursus risus. Proin posuere nulla ligula, ut fermentum libero mattis ornare. Sed bibendum ligula nec dui mattis ornare. Etiam ullamcorper leo id mi commodo, eu scelerisque ipsum vulputate. Aliquam sed orci rutrum, sagittis ante eget, feugiat urna. Integer sodales laoreet odio. Cras eu volutpat diam, at ullamcorper magna. \"\"\""
   ]
  },
  {
   "cell_type": "code",
   "execution_count": 58,
   "metadata": {},
   "outputs": [
    {
     "data": {
      "text/plain": [
       "[' Lorem ipsum dolor sit amet, consectetur adipiscing elit. Phasellus eu est faucibus, gravida ex ut, ultrices mi. Fusce sed leo quis lorem faucibus ornare. Aliquam eu auctor lorem. Interdum et malesuada fames ac ante ipsum primis in faucibus. Pellentesque ultricies elit quis fermentum scelerisque. Aenean in augue sapien. Nulla non mattis tellus, sit amet sodales odio. Fusce eu urna ultrices, pharetra mauris vel, mattis quam. Quisque tempus at turpis at luctus.',\n",
       " 'Orci varius natoque penatibus et magnis dis parturient montes, nascetur ridiculus mus. Morbi at mollis tellus, quis mattis nisl. Sed viverra ipsum justo, eget vulputate ligula viverra in. Aenean in facilisis purus. Donec ante diam, maximus et nisl ut, condimentum finibus metus. Vestibulum volutpat gravida vulputate. Lorem ipsum dolor sit amet, consectetur adipiscing elit. Nunc eget lacus libero. Mauris consectetur massa eros, nec interdum felis laoreet id. Suspendisse viverra blandit leo et varius. Curabitur leo sem, cursus id massa in, auctor bibendum massa. Fusce a sollicitudin felis. Vivamus congue urna dolor, a varius purus pellentesque vel. Suspendisse quis sapien odio. Nullam placerat sit amet est eu laoreet. Donec feugiat quam eget posuere feugiat.',\n",
       " 'Etiam venenatis dapibus nibh elementum tristique. Proin nunc lacus, laoreet non tellus ut, tempus cursus risus. Proin posuere nulla ligula, ut fermentum libero mattis ornare. Sed bibendum ligula nec dui mattis ornare. Etiam ullamcorper leo id mi commodo, eu scelerisque ipsum vulputate. Aliquam sed orci rutrum, sagittis ante eget, feugiat urna. Integer sodales laoreet odio. Cras eu volutpat diam, at ullamcorper magna. ']"
      ]
     },
     "execution_count": 58,
     "metadata": {},
     "output_type": "execute_result"
    }
   ],
   "source": [
    "line_text = text.split('\\n')\n",
    "line_text"
   ]
  },
  {
   "cell_type": "markdown",
   "metadata": {},
   "source": [
    "#### Excersise 5\n",
    "Answer with your own words to one of the following questions. Your variant is based on your name and computed automatically in the next cell.\n",
    "\n",
    "Variant 1:\n",
    "Imagine, you are developing a vending machine. You need to keep your vending machine state: which items are presented on which shelves, how much money inside machine to give change, how much money user inserted in current time, which purchases users made etc. You need to create a data structure for that using known data types.\n",
    "\n",
    "Variant 2:\n",
    "Imagine, you are developing a messenger with direct messages, groups, different media types of messages, etc. You need to keep your messenger state in memory: all users with their data, which chats they have, etc. You need to create a data structure for that using known data types.\n",
    "\n",
    "Variant 3:\n",
    "Imagine, you are developing a staff management system for a mid-size corporation. You need to keep all organizational structure in memory: departments, employees, their personal data, positions, salaries, history of growth, who is whose boss, etc. You need to create a data structure for that using known data types."
   ]
  },
  {
   "cell_type": "code",
   "execution_count": 59,
   "metadata": {},
   "outputs": [
    {
     "name": "stdout",
     "output_type": "stream",
     "text": [
      "Your variant is 3\n"
     ]
    }
   ],
   "source": [
    "variant = hash(' '.join([first_name, last_name])) % 3 + 1\n",
    "print(f'Your variant is {variant}')"
   ]
  },
  {
   "cell_type": "markdown",
   "metadata": {},
   "source": [
    "I'll probably use dictionary since you can make it work like a relational database, with primary keys bien the keys of the dictionary and relations just point to the other dictionary."
   ]
  },
  {
   "cell_type": "markdown",
   "metadata": {},
   "source": [
    "#### Excersise 6\n",
    "\n",
    "Clear your current repository (remove all useless files).\n",
    "Then create a package named `assignment01`.\n",
    "\n",
    "In the `assignment01` package you should have two `.py` files:\n",
    "\n",
    "```\n",
    "get_date.py\n",
    "get_time.py\n",
    "```\n",
    "File `get_date.py` contains only function `ding()` which returns the current date in format `yyyy-mm-dd`\n",
    "\n",
    "File `get_date.py` contains only function `dong()` which  returns the current time in 24h format `hh:mm:ss`\n",
    "\n",
    "Import these files and call the functions in the next cell."
   ]
  },
  {
   "cell_type": "code",
   "execution_count": null,
   "metadata": {},
   "outputs": [],
   "source": [
    "# YOUR CODE HERE"
   ]
  },
  {
   "cell_type": "markdown",
   "metadata": {},
   "source": [
    "#### Excersise 7\n",
    "\n",
    "Create the `.gitignore` file in the current repository and enshure git will ignore jupyter notebook checkpoints (hint: check the hidden directories) and python cache."
   ]
  },
  {
   "cell_type": "markdown",
   "metadata": {},
   "source": [
    "_Here you should interact with the command prompt_"
   ]
  },
  {
   "cell_type": "markdown",
   "metadata": {},
   "source": [
    "#### Excersise 8\n",
    "Create folder `shell_tools` in your repository.\n",
    "\n",
    "Solve the excersises from [this lesson](https://missing.csail.mit.edu/2020/shell-tools/) from the brilliant course by MIT: https://missing.csail.mit.edu\n",
    "\n",
    "Place your solutions in the `shell_tools` directory. It should contain one file for each step except step 2 (named `step0*`) with bash commands. Step 2 already requires you to write `marco` and `polo` scripts)."
   ]
  },
  {
   "cell_type": "markdown",
   "metadata": {},
   "source": [
    "_Here you should interact with the command prompt_"
   ]
  },
  {
   "cell_type": "markdown",
   "metadata": {},
   "source": [
    "#### Excersise 9\n",
    "\n",
    "Move this notebook to the repository directory (unless it is already there), commit and push all updates to the remote. Thes sync it to the local machine and check that this exact notebook runs (Kernel –> Restart and run all) without any changes."
   ]
  },
  {
   "cell_type": "code",
   "execution_count": null,
   "metadata": {},
   "outputs": [],
   "source": [
    "notebook_runs_on_local_machine_without_any_changes = # True or False\n",
    "assert notebook_runs_on_local_machine_without_any_changes"
   ]
  },
  {
   "cell_type": "markdown",
   "metadata": {},
   "source": [
    "### Sumbitting your home assignment\n",
    "Push your results to the remote repository and share the link to it in the Google Classroom.\n",
    "\n",
    "Congratulations!"
   ]
  }
 ],
 "metadata": {
  "kernelspec": {
   "display_name": "Python 3 (ipykernel)",
   "language": "python",
   "name": "python3"
  },
  "language_info": {
   "codemirror_mode": {
    "name": "ipython",
    "version": 3
   },
   "file_extension": ".py",
   "mimetype": "text/x-python",
   "name": "python",
   "nbconvert_exporter": "python",
   "pygments_lexer": "ipython3",
   "version": "3.9.5"
  }
 },
 "nbformat": 4,
 "nbformat_minor": 4
}
