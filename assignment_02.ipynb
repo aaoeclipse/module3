{
 "cells": [
  {
   "cell_type": "markdown",
   "metadata": {
    "id": "_9j_aLkqSrBi"
   },
   "source": [
    "To generate random data in Python using a [random](https://pynative.com/python/random/) module "
   ]
  },
  {
   "cell_type": "code",
   "execution_count": 1,
   "metadata": {
    "id": "xMl6GayDUCB4"
   },
   "outputs": [],
   "source": [
    "import random\n",
    "import math"
   ]
  },
  {
   "cell_type": "markdown",
   "metadata": {
    "id": "QMlUzOq0oAI5"
   },
   "source": [
    "### Exercise 1\n",
    "You have a list a = [1, 1, 2, 3, 5, 6, 13, 21, 34, 55, 89].\n",
    "\n",
    "Print all even elements and sum."
   ]
  },
  {
   "cell_type": "code",
   "execution_count": 2,
   "metadata": {
    "id": "rwJIfKOdnfGW"
   },
   "outputs": [
    {
     "name": "stdout",
     "output_type": "stream",
     "text": [
      "all even elements = [2, 6, 34]: sum = 42\n"
     ]
    }
   ],
   "source": [
    "a = [1, 1, 2, 3, 5, 6, 13, 21, 34, 55, 89]\n",
    "\n",
    "even_list = list(filter(lambda x: (x % 2 == 0), a))\n",
    "even_sum = sum(even_list)\n",
    "\n",
    "print(f'all even elements = {even_list}: sum = {even_sum}')"
   ]
  },
  {
   "cell_type": "markdown",
   "metadata": {
    "id": "0PxuwdtZoB9-"
   },
   "source": [
    "### Exercise 2\n",
    "Print a list that consists of the common elements of the two lists."
   ]
  },
  {
   "cell_type": "code",
   "execution_count": 3,
   "metadata": {
    "id": "9T9ue6_h-RA0"
   },
   "outputs": [
    {
     "data": {
      "text/plain": [
       "[1, 2, 3, 5, 6, 13]"
      ]
     },
     "execution_count": 3,
     "metadata": {},
     "output_type": "execute_result"
    }
   ],
   "source": [
    "a = [1, 1, 2, 3, 5, 6, 13, 21, 34, 55, 89]\n",
    "b = [1, 2, 3, 4, 5, 6, 7, 8, 9, 10, 11, 12, 13]\n",
    "\n",
    "list(set(a).intersection(b))"
   ]
  },
  {
   "cell_type": "markdown",
   "metadata": {
    "id": "D-7vU_xMoGXW"
   },
   "source": [
    "### Exercise 3\n",
    "Print the first n lines of [Pascal's triangle](https://en.wikipedia.org/wiki/Pascal%27s_triangle). The view can be not formatted, that is, just print lines from Pascal's triangle."
   ]
  },
  {
   "cell_type": "code",
   "execution_count": 9,
   "metadata": {},
   "outputs": [],
   "source": [
    "def pascal_triangle(n, show=False):\n",
    "    pasc_tri = []\n",
    "\n",
    "    for i in range(n):\n",
    "        row = []\n",
    "        for j in range(i+1):\n",
    "            if j==0 or j==i:\n",
    "                row.append(1)\n",
    "            else:\n",
    "                row.append(pasc_tri[i-1][j-1] + pasc_tri[i-1][j])\n",
    "        pasc_tri.append(row)\n",
    "    \n",
    "    if show:\n",
    "        for i in range(n):\n",
    "            for j in range(n-i-1):\n",
    "                print(' ', end='')\n",
    "            for j in range(i+1):\n",
    "                print(pasc_tri[i][j], end=' ')\n",
    "            print()\n",
    "    return pasc_tri"
   ]
  },
  {
   "cell_type": "code",
   "execution_count": 10,
   "metadata": {
    "id": "ORxlMF5XoHaf"
   },
   "outputs": [
    {
     "name": "stdout",
     "output_type": "stream",
     "text": [
      "    1 \n",
      "   1 1 \n",
      "  1 2 1 \n",
      " 1 3 3 1 \n",
      "1 4 6 4 1 \n"
     ]
    },
    {
     "data": {
      "text/plain": [
       "[[1], [1, 1], [1, 2, 1], [1, 3, 3, 1], [1, 4, 6, 4, 1]]"
      ]
     },
     "execution_count": 10,
     "metadata": {},
     "output_type": "execute_result"
    }
   ],
   "source": [
    "n = int(input('Enter the number of lines: '))\n",
    "pascal_triangle(n, show=True)"
   ]
  },
  {
   "cell_type": "markdown",
   "metadata": {
    "id": "LZFh27IYoH-M"
   },
   "source": [
    "### Exercise 4\n",
    "Check if the string is a palindrome."
   ]
  },
  {
   "cell_type": "code",
   "execution_count": 22,
   "metadata": {
    "id": "dbmC6TJNTERJ"
   },
   "outputs": [
    {
     "data": {
      "text/plain": [
       "True"
      ]
     },
     "execution_count": 22,
     "metadata": {},
     "output_type": "execute_result"
    }
   ],
   "source": [
    "string = input('Enter the string: ').lower()\n",
    "(string == string[::-1])"
   ]
  },
  {
   "cell_type": "markdown",
   "metadata": {
    "id": "0dG5QsDnoJw4"
   },
   "source": [
    "### Exercise 5\n",
    "Convert seconds to days:hours:minutes:seconds (without using datetime)"
   ]
  },
  {
   "cell_type": "code",
   "execution_count": 27,
   "metadata": {
    "id": "riZL3l86TJ2Z"
   },
   "outputs": [
    {
     "name": "stdout",
     "output_type": "stream",
     "text": [
      "1:1:40:0\n"
     ]
    }
   ],
   "source": [
    "seconds = int(input(\"Number of seconds: \"))\n",
    "\n",
    "print(f'{seconds // 86400}:{(seconds % 86400) // 3600}:{((seconds % 86400) % 3600) // 60}:{((seconds % 86400) % 3600) % 60}')"
   ]
  },
  {
   "cell_type": "markdown",
   "metadata": {
    "id": "nBVW10zzoLN-"
   },
   "source": [
    "### Exercise 6\n",
    "You accept a comma-separated sequence of numbers from the user. Make a list and tuple of these numbers."
   ]
  },
  {
   "cell_type": "code",
   "execution_count": 28,
   "metadata": {
    "id": "x--lqdQOoMSG"
   },
   "outputs": [
    {
     "name": "stdout",
     "output_type": "stream",
     "text": [
      "List: ['1', '2', '3', '4', '5']\n",
      "Tuple: ('1', '2', '3', '4', '5')\n"
     ]
    }
   ],
   "source": [
    "sequence = input(\"Enter the sequence: \")\n",
    "\n",
    "list_input = sequence.split(',')\n",
    "tuples_input = tuple(list_input)\n",
    "\n",
    "print(f'List: {list_input}\\nTuple: {tuples_input}')"
   ]
  },
  {
   "cell_type": "markdown",
   "metadata": {
    "id": "LX80ZS4VoMt_"
   },
   "source": [
    "### Exercise 7\n",
    "Print the first and last element of a list filled with N random integers."
   ]
  },
  {
   "cell_type": "code",
   "execution_count": 32,
   "metadata": {
    "id": "O16WVyH2TfRO"
   },
   "outputs": [
    {
     "name": "stdout",
     "output_type": "stream",
     "text": [
      "list: [7, 27, 8, 40, 2, 17, 85, 95, 47, 48]\n",
      "first: 7 last: 48\n"
     ]
    }
   ],
   "source": [
    "N = int(input())\n",
    "n = [random.randint(0,100) for x in range(N)]\n",
    "print(f'list: {n}\\nfirst: {n[0]} last: {n[-1]}')"
   ]
  },
  {
   "cell_type": "markdown",
   "metadata": {
    "id": "RONwF247oOGw"
   },
   "source": [
    "### Exercise 8\n",
    "Print the file extension. If it cannot be determined, print \"no extension\"."
   ]
  },
  {
   "cell_type": "code",
   "execution_count": 38,
   "metadata": {
    "id": "zXm-h5SlUPlF"
   },
   "outputs": [
    {
     "name": "stdout",
     "output_type": "stream",
     "text": [
      "mas\n"
     ]
    }
   ],
   "source": [
    "filename = input('File name: \\n')\n",
    "file_separated = filename.split('.')\n",
    "if len(file_separated) < 2:\n",
    "    print('no extension')\n",
    "else:\n",
    "    print(file_separated[-1])\n"
   ]
  },
  {
   "cell_type": "markdown",
   "metadata": {
    "id": "Imewfx3UphZG"
   },
   "source": [
    "### Exercise 9\n",
    "Add up the digits of the given integer."
   ]
  },
  {
   "cell_type": "code",
   "execution_count": 46,
   "metadata": {
    "id": "S0prYFkypjMD"
   },
   "outputs": [
    {
     "name": "stdout",
     "output_type": "stream",
     "text": [
      "sum: 15\n"
     ]
    }
   ],
   "source": [
    "x = 12345\n",
    "print(f'sum: { sum(list(map( int, str(x).strip() ) ) )}')"
   ]
  },
  {
   "cell_type": "markdown",
   "metadata": {
    "id": "tx0wApZupk05"
   },
   "source": [
    "### Exercise 10\n",
    "Сreate two lists of size 20 containing random integers from the segment [0, 30], prints them to the screen and all elements of the first that are not in the second."
   ]
  },
  {
   "cell_type": "code",
   "execution_count": 54,
   "metadata": {
    "id": "MkC_sLdRpoG7"
   },
   "outputs": [
    {
     "name": "stdout",
     "output_type": "stream",
     "text": [
      "list 1: [12, 31, 28, 0, 17, 27, 18, 26, 15, 3, 31, 0, 0, 11, 19, 0, 13, 21, 12, 28]\n",
      "list 2: [15, 12, 4, 16, 29, 12, 10, 19, 16, 20, 27, 27, 7, 3, 18, 28, 28, 21, 6, 7]\n",
      "difference: [0, 11, 13, 17, 26, 31]\n"
     ]
    }
   ],
   "source": [
    "lst1 =  [random.randint(0,31) for i in range(20)]\n",
    "lst2 =  [random.randint(0,31) for i in range(20)]\n",
    "\n",
    "print(f'list 1: {lst1}\\nlist 2: {lst2}\\ndifference: {list(set(lst1).difference(lst2))}')\n",
    "   "
   ]
  },
  {
   "cell_type": "markdown",
   "metadata": {
    "id": "PO9NF3IBpoxz"
   },
   "source": [
    "### Exercise 11\n",
    "Find the number of divisors of a given integer."
   ]
  },
  {
   "cell_type": "code",
   "execution_count": 56,
   "metadata": {
    "executionInfo": {
     "elapsed": 299,
     "status": "ok",
     "timestamp": 1636697358832,
     "user": {
      "displayName": "Илья Склонин",
      "photoUrl": "https://lh3.googleusercontent.com/a-/AOh14GhUvANVFromlHIqSQCbXd0ZcDr9JIJjbuaZr1Zlig=s64",
      "userId": "11017978408778967846"
     },
     "user_tz": -180
    },
    "id": "6pqgc99LprzC"
   },
   "outputs": [
    {
     "name": "stdout",
     "output_type": "stream",
     "text": [
      "Divisors: [1, 2, 5]\n"
     ]
    }
   ],
   "source": [
    "integer = int(input())\n",
    "\n",
    "divisors = []\n",
    "for x in range(1, integer):\n",
    "    if (integer % x == 0):\n",
    "        divisors.append(x)\n",
    "\n",
    "print(f'Divisors: {divisors}')"
   ]
  },
  {
   "cell_type": "markdown",
   "metadata": {
    "id": "0lMCVueRpsae"
   },
   "source": [
    "### Exercise 12\n",
    "Count input letter in the input string."
   ]
  },
  {
   "cell_type": "code",
   "execution_count": 64,
   "metadata": {
    "id": "u-x80kjLQIVg"
   },
   "outputs": [
    {
     "data": {
      "text/plain": [
       "{'d': 7, 'k': 3, 's': 7, 'a': 4, 'f': 6, 'l': 3, 'j': 3}"
      ]
     },
     "execution_count": 64,
     "metadata": {},
     "output_type": "execute_result"
    }
   ],
   "source": [
    "string = input('string: ')\n",
    "letter = input('letter: ')\n",
    "\n",
    "counter = {}\n",
    "for x in string:\n",
    "    if x in letter:\n",
    "        counter[x] = 1 if not x in counter.keys() else counter[x] + 1\n",
    "\n",
    "counter"
   ]
  },
  {
   "cell_type": "markdown",
   "metadata": {
    "id": "FF0C3-cTp0uy"
   },
   "source": [
    "### Exercise 13\n",
    "Swap the values "
   ]
  },
  {
   "cell_type": "code",
   "execution_count": 65,
   "metadata": {
    "id": "KRHJfO1dcwNr"
   },
   "outputs": [
    {
     "name": "stdout",
     "output_type": "stream",
     "text": [
      "previous: var1=a var2=b\n",
      "new: var1=b var2=a\n"
     ]
    }
   ],
   "source": [
    "var1 = input()\n",
    "var2 = input()\n",
    "\n",
    "print(f\"previous: var1={var1} var2={var2}\")\n",
    "\n",
    "var1, var2 = var2, var1\n",
    "\n",
    "print(f\"new: var1={var1} var2={var2}\")"
   ]
  },
  {
   "cell_type": "markdown",
   "metadata": {
    "id": "I2x5B2_Np9kO"
   },
   "source": [
    "### Exercise 14\n",
    "You need to check if all the numbers in the sequence are unique. The sequence consists of integers entered from the keyboard. The end of the input is the `'#'` symbol."
   ]
  },
  {
   "cell_type": "code",
   "execution_count": 67,
   "metadata": {
    "id": "gsiB8H61p_Bb"
   },
   "outputs": [],
   "source": [
    "def is_unique_sequence(input_numbers):\n",
    "    used_ints = []\n",
    "    for x in input_numbers:\n",
    "        if x == '#':\n",
    "            return True\n",
    "        \n",
    "        if x in used_ints:\n",
    "            return False\n",
    "            \n",
    "        used_ints.append(x)\n",
    "    \n",
    "    print('no # at the end of the line')\n",
    "    return True"
   ]
  },
  {
   "cell_type": "code",
   "execution_count": 71,
   "metadata": {},
   "outputs": [
    {
     "data": {
      "text/plain": [
       "True"
      ]
     },
     "execution_count": 71,
     "metadata": {},
     "output_type": "execute_result"
    }
   ],
   "source": [
    "is_unique_sequence(\"123456#\")"
   ]
  },
  {
   "cell_type": "markdown",
   "metadata": {
    "id": "hiPumXgoZtPS"
   },
   "source": [
    "### Exercise 15\n",
    "\n",
    "Create two built-in frozenset objects from strings `'reversed question'` and `'answer'`, and try to make them keys in the dct dictionary for the strings `'? Tesnezorf dna tes neewteb ecnereffid niam eht si tahw'` and **`'<your answer to the question>'`**, respectively. There is no need to reverse the answer. Finally, print out the dct dictionary."
   ]
  },
  {
   "cell_type": "code",
   "execution_count": 73,
   "metadata": {
    "id": "raWWJ0h_77_B"
   },
   "outputs": [],
   "source": [
    "dct = {}"
   ]
  },
  {
   "cell_type": "code",
   "execution_count": 76,
   "metadata": {
    "id": "1Jp2fm0jaChM"
   },
   "outputs": [
    {
     "data": {
      "text/plain": [
       "{frozenset({' ',\n",
       "            'd',\n",
       "            'e',\n",
       "            'i',\n",
       "            'n',\n",
       "            'o',\n",
       "            'q',\n",
       "            'r',\n",
       "            's',\n",
       "            't',\n",
       "            'u',\n",
       "            'v'}): '? Tesnezorf dna tes neewteb ecnereffid niam eht si tahw',\n",
       " frozenset({'a',\n",
       "            'e',\n",
       "            'n',\n",
       "            'r',\n",
       "            's',\n",
       "            'w'}): 'frozenset are immutable object while regular sets are not'}"
      ]
     },
     "execution_count": 76,
     "metadata": {},
     "output_type": "execute_result"
    }
   ],
   "source": [
    "A = frozenset('reversed question')\n",
    "B = frozenset('answer')\n",
    "\n",
    "dct[A] = '? Tesnezorf dna tes neewteb ecnereffid niam eht si tahw'\n",
    "dct[B] = 'frozenset are immutable object while regular sets are not'\n",
    "\n",
    "dct"
   ]
  },
  {
   "cell_type": "markdown",
   "metadata": {
    "id": "wIXXdtGdaMhF"
   },
   "source": [
    "### Exercise 16\n",
    "\n",
    "Find the area of a circle. You can use const `'pi'` from `'math'` module "
   ]
  },
  {
   "cell_type": "code",
   "execution_count": 77,
   "metadata": {
    "id": "QGSPfMB-anqX"
   },
   "outputs": [
    {
     "name": "stdout",
     "output_type": "stream",
     "text": [
      "314.1592653589793\n"
     ]
    }
   ],
   "source": [
    "r = float(input())\n",
    "\n",
    "A = lambda r: math.pi * r ** 2\n",
    "\n",
    "print(A(r))\n"
   ]
  },
  {
   "cell_type": "markdown",
   "metadata": {
    "id": "Dj3SgDdLahaZ"
   },
   "source": [
    "### Exercise 17\n",
    "\n",
    "Swap keys and values."
   ]
  },
  {
   "cell_type": "code",
   "execution_count": 79,
   "metadata": {
    "colab": {
     "base_uri": "https://localhost:8080/"
    },
    "executionInfo": {
     "elapsed": 234,
     "status": "ok",
     "timestamp": 1636699521235,
     "user": {
      "displayName": "Илья Склонин",
      "photoUrl": "https://lh3.googleusercontent.com/a-/AOh14GhUvANVFromlHIqSQCbXd0ZcDr9JIJjbuaZr1Zlig=s64",
      "userId": "11017978408778967846"
     },
     "user_tz": -180
    },
    "id": "jVi685NrawKc",
    "outputId": "bd0912e5-7e38-4ecc-981a-cc6242cdb5b0"
   },
   "outputs": [
    {
     "name": "stdout",
     "output_type": "stream",
     "text": [
      "before\n",
      "{0: 0, 1: 1, 2: 4, 3: 9, 4: 16, 5: 25, 6: 36, 7: 49, 8: 64, 9: 81}\n",
      "after\n",
      "{0: 0, 1: 1, 4: 2, 9: 3, 16: 4, 25: 5, 36: 6, 49: 7, 64: 8, 81: 9}\n"
     ]
    }
   ],
   "source": [
    "dct = {x: x ** 2 for x in range(10)}\n",
    "print(\"before\")\n",
    "print(dct)\n",
    "# your code here\n",
    "dct = dict((value,key) for key,value in dct.items())\n",
    "print(\"after\")\n",
    "print(dct)"
   ]
  },
  {
   "cell_type": "markdown",
   "metadata": {
    "id": "bSkROdzbbDPT"
   },
   "source": [
    "### Exercise 18\n",
    "\n",
    "Create a variable that stores the description of this task as a string, separate the words, and convert to LOWERCASE."
   ]
  },
  {
   "cell_type": "code",
   "execution_count": 80,
   "metadata": {
    "id": "QLQuRJ5fbHyG"
   },
   "outputs": [
    {
     "data": {
      "text/plain": [
       "['create',\n",
       " 'a',\n",
       " 'variable',\n",
       " 'that',\n",
       " 'stores',\n",
       " 'the',\n",
       " 'description',\n",
       " 'of',\n",
       " 'this',\n",
       " 'task',\n",
       " 'as',\n",
       " 'a',\n",
       " 'string,',\n",
       " 'separate',\n",
       " 'the',\n",
       " 'words,',\n",
       " 'and',\n",
       " 'convert',\n",
       " 'to',\n",
       " 'lowercase.']"
      ]
     },
     "execution_count": 80,
     "metadata": {},
     "output_type": "execute_result"
    }
   ],
   "source": [
    "# your code here\n",
    "result = 'Create a variable that stores the description of this task as a string, separate the words, and convert to LOWERCASE.'.lower().split()\n",
    "result"
   ]
  },
  {
   "cell_type": "markdown",
   "metadata": {
    "id": "xDwSLToobQIJ"
   },
   "source": [
    "### Exercise 19\n",
    "Print the sorted words from the previous exercise in reverse lexicographical order."
   ]
  },
  {
   "cell_type": "code",
   "execution_count": 84,
   "metadata": {
    "id": "QqEMRS9NbST0"
   },
   "outputs": [
    {
     "name": "stdout",
     "output_type": "stream",
     "text": [
      "None\n"
     ]
    },
    {
     "data": {
      "text/plain": [
       "['a',\n",
       " 'a',\n",
       " 'and',\n",
       " 'as',\n",
       " 'convert',\n",
       " 'create',\n",
       " 'description',\n",
       " 'lowercase.',\n",
       " 'of',\n",
       " 'separate',\n",
       " 'stores',\n",
       " 'string,',\n",
       " 'task',\n",
       " 'that',\n",
       " 'the',\n",
       " 'the',\n",
       " 'this',\n",
       " 'to',\n",
       " 'variable',\n",
       " 'words,']"
      ]
     },
     "execution_count": 84,
     "metadata": {},
     "output_type": "execute_result"
    }
   ],
   "source": [
    "# your code here\n",
    "print(result.sort())\n",
    "result"
   ]
  },
  {
   "cell_type": "markdown",
   "metadata": {
    "id": "rO-Amdrhbfc5"
   },
   "source": [
    "### Exercise 20\n",
    "\n",
    "Write code that reverses all odd-numbered elements of lst in reverse order.\n",
    "\n",
    "That is, if lst = [0, 1, 2, 3, 4, 5, 6, 7, 8, 9], then you should get [0, 9, 2, 7, 4, 5, 6, 3, 8, 1]"
   ]
  },
  {
   "cell_type": "code",
   "execution_count": 87,
   "metadata": {},
   "outputs": [
    {
     "name": "stdout",
     "output_type": "stream",
     "text": [
      "[0, 9, 2, 7, 4, 5, 6, 3, 8, 1]\n"
     ]
    }
   ],
   "source": [
    "even = list(filter(lambda x: (x % 2 == 0), lst))\n",
    "odd = list(filter(lambda x: (x % 2 == 1), lst))\n",
    "\n",
    "odd = odd[::-1]\n",
    "\n",
    "result2 = [None] * (len(lst))\n",
    "result2[::2] = even\n",
    "result2[1::2] = odd\n",
    "\n",
    "print(result2)"
   ]
  }
 ],
 "metadata": {
  "colab": {
   "collapsed_sections": [],
   "name": "home_assignment_02",
   "provenance": [
    {
     "file_id": "1Xrp3JxkheLxkAY5f7xZ1U90RtnexICQU",
     "timestamp": 1636693755902
    },
    {
     "file_id": "18bbmK2TYy_r3K1Frc9wOVpGv_ZNAImO2",
     "timestamp": 1636476683698
    },
    {
     "file_id": "1v-rKLwgo02lZQEOi3hGw01NFnxA0pSmF",
     "timestamp": 1625665244599
    },
    {
     "file_id": "1aUZJff9pPV4ntzeJ3_GXZtawvMaCPW-V",
     "timestamp": 1609226955665
    }
   ],
   "toc_visible": true
  },
  "kernelspec": {
   "display_name": "Python 3 (ipykernel)",
   "language": "python",
   "name": "python3"
  },
  "language_info": {
   "codemirror_mode": {
    "name": "ipython",
    "version": 3
   },
   "file_extension": ".py",
   "mimetype": "text/x-python",
   "name": "python",
   "nbconvert_exporter": "python",
   "pygments_lexer": "ipython3",
   "version": "3.9.5"
  }
 },
 "nbformat": 4,
 "nbformat_minor": 4
}
